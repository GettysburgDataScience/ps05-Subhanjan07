{
 "cells": [
  {
   "cell_type": "code",
   "execution_count": 1,
   "metadata": {},
   "outputs": [],
   "source": [
    "# Subhanjan Baral - Section C"
   ]
  },
  {
   "cell_type": "markdown",
   "metadata": {},
   "source": [
    "DS 256 Data Science Programming, Fall 2024\n",
    "\n",
    "Prof Eatai Roth\n",
    "\n",
    "## Problem Set 5\n",
    "Due 11/14/2024 by 8p"
   ]
  },
  {
   "cell_type": "markdown",
   "metadata": {},
   "source": [
    "## Titanic Pandas\n",
    "(sounds cute...is not)\n",
    "\n",
    "In this assignment, we'll explore the titanic training data set. These data represent a portion of the passenger manifest of the Titanic, detailing the passengers and whether or not they survived the fateful crash.\n",
    "\n",
    "The columns are mostly self-explanatory. Key to less-obvious columns:\n",
    " - Sex - male=1 / female=0 \n",
    " - Parch - number of parents/children traveling with\n",
    " - SibSp - numbers of siblings/spouses traveling with\n",
    " - PClass - ticket class (like first class, business, economy)\n",
    "\n",
    "\n",
    " To start, you should import packages, ```pandas``` (as pd) and ```matplotlib.pyplot``` (as plt). Then load the data from ```titanic_train_clean.csv``` into a pandas dataframe.\n",
    "\n",
    " Feel free to add more code blocks if needed. When making figures, don't forget to label axes and provide titles and legends when appropriate."
   ]
  },
  {
   "cell_type": "code",
   "execution_count": 2,
   "metadata": {},
   "outputs": [
    {
     "data": {
      "text/html": [
       "<div>\n",
       "<style scoped>\n",
       "    .dataframe tbody tr th:only-of-type {\n",
       "        vertical-align: middle;\n",
       "    }\n",
       "\n",
       "    .dataframe tbody tr th {\n",
       "        vertical-align: top;\n",
       "    }\n",
       "\n",
       "    .dataframe thead th {\n",
       "        text-align: right;\n",
       "    }\n",
       "</style>\n",
       "<table border=\"1\" class=\"dataframe\">\n",
       "  <thead>\n",
       "    <tr style=\"text-align: right;\">\n",
       "      <th></th>\n",
       "      <th>Age</th>\n",
       "      <th>Cabin</th>\n",
       "      <th>Embarked</th>\n",
       "      <th>Fare</th>\n",
       "      <th>Name</th>\n",
       "      <th>Parch</th>\n",
       "      <th>PassengerId</th>\n",
       "      <th>Pclass</th>\n",
       "      <th>Sex</th>\n",
       "      <th>SibSp</th>\n",
       "      <th>Survived</th>\n",
       "      <th>Ticket</th>\n",
       "      <th>Title</th>\n",
       "      <th>Family_Size</th>\n",
       "    </tr>\n",
       "  </thead>\n",
       "  <tbody>\n",
       "    <tr>\n",
       "      <th>0</th>\n",
       "      <td>22.0</td>\n",
       "      <td>NaN</td>\n",
       "      <td>S</td>\n",
       "      <td>7.2500</td>\n",
       "      <td>Braund, Mr. Owen Harris</td>\n",
       "      <td>0</td>\n",
       "      <td>1</td>\n",
       "      <td>3</td>\n",
       "      <td>1</td>\n",
       "      <td>1</td>\n",
       "      <td>0</td>\n",
       "      <td>A/5 21171</td>\n",
       "      <td>Mr</td>\n",
       "      <td>1</td>\n",
       "    </tr>\n",
       "    <tr>\n",
       "      <th>1</th>\n",
       "      <td>38.0</td>\n",
       "      <td>C85</td>\n",
       "      <td>C</td>\n",
       "      <td>71.2833</td>\n",
       "      <td>Cumings, Mrs. John Bradley (Florence Briggs Th...</td>\n",
       "      <td>0</td>\n",
       "      <td>2</td>\n",
       "      <td>1</td>\n",
       "      <td>0</td>\n",
       "      <td>1</td>\n",
       "      <td>1</td>\n",
       "      <td>PC 17599</td>\n",
       "      <td>Mrs</td>\n",
       "      <td>1</td>\n",
       "    </tr>\n",
       "    <tr>\n",
       "      <th>2</th>\n",
       "      <td>26.0</td>\n",
       "      <td>NaN</td>\n",
       "      <td>S</td>\n",
       "      <td>7.9250</td>\n",
       "      <td>Heikkinen, Miss. Laina</td>\n",
       "      <td>0</td>\n",
       "      <td>3</td>\n",
       "      <td>3</td>\n",
       "      <td>0</td>\n",
       "      <td>0</td>\n",
       "      <td>1</td>\n",
       "      <td>STON/O2. 3101282</td>\n",
       "      <td>Miss</td>\n",
       "      <td>0</td>\n",
       "    </tr>\n",
       "    <tr>\n",
       "      <th>3</th>\n",
       "      <td>35.0</td>\n",
       "      <td>C123</td>\n",
       "      <td>S</td>\n",
       "      <td>53.1000</td>\n",
       "      <td>Futrelle, Mrs. Jacques Heath (Lily May Peel)</td>\n",
       "      <td>0</td>\n",
       "      <td>4</td>\n",
       "      <td>1</td>\n",
       "      <td>0</td>\n",
       "      <td>1</td>\n",
       "      <td>1</td>\n",
       "      <td>113803</td>\n",
       "      <td>Mrs</td>\n",
       "      <td>1</td>\n",
       "    </tr>\n",
       "    <tr>\n",
       "      <th>4</th>\n",
       "      <td>35.0</td>\n",
       "      <td>NaN</td>\n",
       "      <td>S</td>\n",
       "      <td>8.0500</td>\n",
       "      <td>Allen, Mr. William Henry</td>\n",
       "      <td>0</td>\n",
       "      <td>5</td>\n",
       "      <td>3</td>\n",
       "      <td>1</td>\n",
       "      <td>0</td>\n",
       "      <td>0</td>\n",
       "      <td>373450</td>\n",
       "      <td>Mr</td>\n",
       "      <td>0</td>\n",
       "    </tr>\n",
       "  </tbody>\n",
       "</table>\n",
       "</div>"
      ],
      "text/plain": [
       "    Age Cabin Embarked     Fare  \\\n",
       "0  22.0   NaN        S   7.2500   \n",
       "1  38.0   C85        C  71.2833   \n",
       "2  26.0   NaN        S   7.9250   \n",
       "3  35.0  C123        S  53.1000   \n",
       "4  35.0   NaN        S   8.0500   \n",
       "\n",
       "                                                Name  Parch  PassengerId  \\\n",
       "0                            Braund, Mr. Owen Harris      0            1   \n",
       "1  Cumings, Mrs. John Bradley (Florence Briggs Th...      0            2   \n",
       "2                             Heikkinen, Miss. Laina      0            3   \n",
       "3       Futrelle, Mrs. Jacques Heath (Lily May Peel)      0            4   \n",
       "4                           Allen, Mr. William Henry      0            5   \n",
       "\n",
       "   Pclass  Sex  SibSp  Survived            Ticket Title  Family_Size  \n",
       "0       3    1      1         0         A/5 21171    Mr            1  \n",
       "1       1    0      1         1          PC 17599   Mrs            1  \n",
       "2       3    0      0         1  STON/O2. 3101282  Miss            0  \n",
       "3       1    0      1         1            113803   Mrs            1  \n",
       "4       3    1      0         0            373450    Mr            0  "
      ]
     },
     "execution_count": 2,
     "metadata": {},
     "output_type": "execute_result"
    }
   ],
   "source": [
    "import pandas as pd\n",
    "import matplotlib.pyplot as plt\n",
    "\n",
    "titanic_data = pd.read_csv(\"titanic.csv\")\n",
    "\n",
    "titanic_data.head()\n"
   ]
  },
  {
   "cell_type": "markdown",
   "metadata": {},
   "source": [
    "## Homework Problems\n",
    "\n",
    "For each of the problems, you'll write some code to find the answer. If there is a written/short answer component, use the provided text field."
   ]
  },
  {
   "cell_type": "markdown",
   "metadata": {},
   "source": [
    "### Problem 1\n",
    "\n",
    " - How many passengers are recorded in this log?\n",
    " - What percentage are male?\n",
    " - What percentage survived?\n",
    "\n",
    "Hint: You can find these three answers with a single command."
   ]
  },
  {
   "cell_type": "code",
   "execution_count": 3,
   "metadata": {},
   "outputs": [
    {
     "data": {
      "text/plain": [
       "(891, np.float64(64.75869809203144), np.float64(38.38383838383838))"
      ]
     },
     "execution_count": 3,
     "metadata": {},
     "output_type": "execute_result"
    }
   ],
   "source": [
    "# Get the total number of passengers, percentage of males, and percentage who survived\n",
    "total_passengers = titanic_data.shape[0]\n",
    "percentage_male = (titanic_data['Sex'].sum() / total_passengers) * 100  \n",
    "percentage_survived = (titanic_data['Survived'].sum() / total_passengers) * 100  \n",
    "\n",
    "total_passengers, percentage_male, percentage_survived\n",
    "\n"
   ]
  },
  {
   "cell_type": "markdown",
   "metadata": {},
   "source": [
    "Your written answer:\n",
    "\n",
    " - <Answer 1> The total number of passengers recorded is 891.\n",
    " - <Answer 2> About 65 (64.758%) percentage of the passengers are male.\n",
    " - <Answer 3> About 39 (38.3838%) percentage of the passengers survived."
   ]
  },
  {
   "cell_type": "markdown",
   "metadata": {},
   "source": [
    "### Problem 2:\n",
    "\n",
    " - What percentage of female passengers survived?\n",
    " - What percentage of male passengers survived?"
   ]
  },
  {
   "cell_type": "code",
   "execution_count": 4,
   "metadata": {},
   "outputs": [
    {
     "data": {
      "text/plain": [
       "(np.float64(74.20382165605095), np.float64(18.890814558058924))"
      ]
     },
     "execution_count": 4,
     "metadata": {},
     "output_type": "execute_result"
    }
   ],
   "source": [
    "# Calculate the percentage of female passengers who survived\n",
    "female_survived = (titanic_data[titanic_data['Sex'] == 0]['Survived'].mean()) * 100  # Sex=0 means female\n",
    "\n",
    "# Calculate the percentage of male passengers who survived\n",
    "male_survived = (titanic_data[titanic_data['Sex'] == 1]['Survived'].mean()) * 100  # Sex=1 means male\n",
    "\n",
    "female_survived, male_survived\n"
   ]
  },
  {
   "cell_type": "markdown",
   "metadata": {},
   "source": [
    "Your written answer:\n",
    "\n",
    " - <Answer 1> 74.20% of female passengers survived. \n",
    " - <Answer 2> Only about 18.89% of male passengers survived."
   ]
  },
  {
   "cell_type": "markdown",
   "metadata": {},
   "source": [
    "### Problem 3\n",
    "\n",
    "Use ```groupby``` and ```agg``` to find the percentage of the total tickets and the survivorship percentage for each class of ticket."
   ]
  },
  {
   "cell_type": "code",
   "execution_count": 5,
   "metadata": {},
   "outputs": [
    {
     "data": {
      "text/html": [
       "<div>\n",
       "<style scoped>\n",
       "    .dataframe tbody tr th:only-of-type {\n",
       "        vertical-align: middle;\n",
       "    }\n",
       "\n",
       "    .dataframe tbody tr th {\n",
       "        vertical-align: top;\n",
       "    }\n",
       "\n",
       "    .dataframe thead th {\n",
       "        text-align: right;\n",
       "    }\n",
       "</style>\n",
       "<table border=\"1\" class=\"dataframe\">\n",
       "  <thead>\n",
       "    <tr style=\"text-align: right;\">\n",
       "      <th></th>\n",
       "      <th>percentage_total_tickets</th>\n",
       "      <th>survival_rate</th>\n",
       "    </tr>\n",
       "    <tr>\n",
       "      <th>Pclass</th>\n",
       "      <th></th>\n",
       "      <th></th>\n",
       "    </tr>\n",
       "  </thead>\n",
       "  <tbody>\n",
       "    <tr>\n",
       "      <th>1</th>\n",
       "      <td>24.242424</td>\n",
       "      <td>62.962963</td>\n",
       "    </tr>\n",
       "    <tr>\n",
       "      <th>2</th>\n",
       "      <td>20.650954</td>\n",
       "      <td>47.282609</td>\n",
       "    </tr>\n",
       "    <tr>\n",
       "      <th>3</th>\n",
       "      <td>55.106622</td>\n",
       "      <td>24.236253</td>\n",
       "    </tr>\n",
       "  </tbody>\n",
       "</table>\n",
       "</div>"
      ],
      "text/plain": [
       "        percentage_total_tickets  survival_rate\n",
       "Pclass                                         \n",
       "1                      24.242424      62.962963\n",
       "2                      20.650954      47.282609\n",
       "3                      55.106622      24.236253"
      ]
     },
     "execution_count": 5,
     "metadata": {},
     "output_type": "execute_result"
    }
   ],
   "source": [
    "# Group data by PClass (ticket class) and calculate the percentage of total tickets and survival rate for each class\n",
    "ticket_stats = titanic_data.groupby('Pclass').agg(\n",
    "    total_tickets=('Pclass', 'count'),             # Count of tickets in each class\n",
    "    survival_rate=('Survived', 'mean')             # Average survival rate in each class\n",
    ")\n",
    "\n",
    "# Convert total tickets to percentage of total tickets\n",
    "ticket_stats['percentage_total_tickets'] = (ticket_stats['total_tickets'] / titanic_data.shape[0]) * 100\n",
    "\n",
    "# Convert survival rate to percentage\n",
    "ticket_stats['survival_rate'] = ticket_stats['survival_rate'] * 100\n",
    "\n",
    "ticket_stats[['percentage_total_tickets', 'survival_rate']]\n"
   ]
  },
  {
   "cell_type": "markdown",
   "metadata": {},
   "source": [
    "Your written answer:\n",
    "\n",
    " - Class 1 \n",
    "    - % tickets: 24.242424%\n",
    "    - % survivorship: 62.962963\n",
    "- Class 2 \n",
    "    - % tickets: 20.650954%\n",
    "    - % survivorship: 47.282609%\n",
    "- Class 3\n",
    "    - % tickets: 55.106622%\n",
    "    - % survivorship: 24.236253%\n"
   ]
  },
  {
   "cell_type": "markdown",
   "metadata": {},
   "source": [
    "### Problem 4\n",
    "\n",
    "Create two new dataframes corresponding to survivors and non-survivors keeping only the columns: age, name, and sex. Display the first five rows of these new dataframes.\n",
    "\n",
    "Create a figure showing the distribution of age by sex and survivorship (four histograms on the same axes: male-survivors, female-survivors, male-unlucky, female-unlucky). Choose colors and histtype (see the [documentation for histogram](https://matplotlib.org/stable/api/_as_gen/matplotlib.pyplot.hist.html)) to make this figure easy to read and interpret."
   ]
  },
  {
   "cell_type": "code",
   "execution_count": 6,
   "metadata": {},
   "outputs": [
    {
     "name": "stdout",
     "output_type": "stream",
     "text": [
      "Survivors:\n",
      "    Age                                               Name  Sex\n",
      "1  38.0  Cumings, Mrs. John Bradley (Florence Briggs Th...    0\n",
      "2  26.0                             Heikkinen, Miss. Laina    0\n",
      "3  35.0       Futrelle, Mrs. Jacques Heath (Lily May Peel)    0\n",
      "8  27.0  Johnson, Mrs. Oscar W (Elisabeth Vilhelmina Berg)    0\n",
      "9  14.0                Nasser, Mrs. Nicholas (Adele Achem)    0\n",
      "\n",
      "Non-Survivors:\n",
      "    Age                            Name  Sex\n",
      "0  22.0         Braund, Mr. Owen Harris    1\n",
      "4  35.0        Allen, Mr. William Henry    1\n",
      "5  30.0                Moran, Mr. James    1\n",
      "6  54.0         McCarthy, Mr. Timothy J    1\n",
      "7   2.0  Palsson, Master. Gosta Leonard    1\n"
     ]
    }
   ],
   "source": [
    "# DataFrame for survivors\n",
    "survivors_data = titanic_data[titanic_data['Survived'] == 1][['Age', 'Name', 'Sex']]\n",
    "\n",
    "# DataFrame for non-survivors\n",
    "non_survivors_data = titanic_data[titanic_data['Survived'] == 0][['Age', 'Name', 'Sex']]\n",
    "\n",
    "# Display the first five rows of each DataFrame\n",
    "print(\"Survivors:\")\n",
    "print(survivors_data.head())\n",
    "\n",
    "print(\"\\nNon-Survivors:\")\n",
    "print(non_survivors_data.head())\n"
   ]
  },
  {
   "cell_type": "code",
   "execution_count": 7,
   "metadata": {},
   "outputs": [
    {
     "data": {
      "image/png": "[encoded data removed]",
      "text/plain": [
       "<Figure size 1000x600 with 1 Axes>"
      ]
     },
     "metadata": {},
     "output_type": "display_data"
    }
   ],
   "source": [
    "# Set up the figure and axes\n",
    "plt.figure(figsize=(10, 6))\n",
    "\n",
    "# Histogram for male survivors\n",
    "plt.hist(\n",
    "    titanic_data[(titanic_data['Survived'] == 1) & (titanic_data['Sex'] == 1)]['Age'].dropna(),\n",
    "    bins=20,\n",
    "    alpha=0.5,\n",
    "    label='Male Survivors',\n",
    "    color='blue',\n",
    "    histtype='stepfilled'\n",
    ")\n",
    "\n",
    "# Histogram for female survivors\n",
    "plt.hist(\n",
    "    titanic_data[(titanic_data['Survived'] == 1) & (titanic_data['Sex'] == 0)]['Age'].dropna(),\n",
    "    bins=20,\n",
    "    alpha=0.5,\n",
    "    label='Female Survivors',\n",
    "    color='green',\n",
    "    histtype='stepfilled'\n",
    ")\n",
    "\n",
    "# Histogram for male non-survivors\n",
    "plt.hist(\n",
    "    titanic_data[(titanic_data['Survived'] == 0) & (titanic_data['Sex'] == 1)]['Age'].dropna(),\n",
    "    bins=20,\n",
    "    alpha=0.5,\n",
    "    label='Male Non-Survivors',\n",
    "    color='red',\n",
    "    histtype='stepfilled'\n",
    ")\n",
    "\n",
    "# Histogram for female non-survivors\n",
    "plt.hist(\n",
    "    titanic_data[(titanic_data['Survived'] == 0) & (titanic_data['Sex'] == 0)]['Age'].dropna(),\n",
    "    bins=20,\n",
    "    alpha=0.5,\n",
    "    label='Female Non-Survivors',\n",
    "    color='purple',\n",
    "    histtype='stepfilled'\n",
    ")\n",
    "\n",
    "# Add labels, title, and legend\n",
    "plt.xlabel(\"Age\")\n",
    "plt.ylabel(\"Number of Passengers\")\n",
    "plt.title(\"Age Distribution by Sex and Survivorship on the Titanic\")\n",
    "plt.legend(loc='upper right')\n",
    "\n",
    "# Show the plot\n",
    "plt.show()\n"
   ]
  },
  {
   "cell_type": "markdown",
   "metadata": {},
   "source": [
    "### Problem 5\n",
    "\n",
    "Now that we've inspected the data, let's build a classifier (you'll compare two models) that predicts which passengers survived. These are the steps you should take:\n",
    "\n",
    " - Choose your features. The label will be survivorship.\n",
    " - Split the data into training and test sets.\n",
    " - Standardize the values using StandardScaler\n",
    " - Choose two of the following model types: KNN, SVM, Decision Tree. Create those models and select hyper-parameters.\n",
    " - Fit your models to the training data.\n",
    " - Apply the fit models to create predictions from the test data.\n",
    " - For each model, create a confusion matrix for the training and test data. You may want to revisit the hyper-parameters and re-fit the models.\n",
    "\n",
    " - Answer the questions at the bottom of the code block."
   ]
  },
  {
   "cell_type": "code",
   "execution_count": 23,
   "metadata": {},
   "outputs": [
    {
     "name": "stdout",
     "output_type": "stream",
     "text": [
      "Missing values before handling:\n",
      "Age           0\n",
      "Pclass        0\n",
      "Sex         891\n",
      "Fare          0\n",
      "Survived      0\n",
      "dtype: int64\n",
      "\n",
      "Missing values after handling:\n",
      "Age           0\n",
      "Pclass        0\n",
      "Sex         891\n",
      "Fare          0\n",
      "Survived      0\n",
      "dtype: int64\n",
      "\n",
      "Check for missing values in X and y:\n",
      "Age         0\n",
      "Pclass      0\n",
      "Sex       891\n",
      "Fare        0\n",
      "dtype: int64\n",
      "0\n",
      "\n",
      "Missing values in X after imputation:\n",
      "0    0\n",
      "1    0\n",
      "2    0\n",
      "dtype: int64\n",
      "\n",
      "KNN Accuracy: 0.7262569832402235\n"
     ]
    },
    {
     "name": "stderr",
     "output_type": "stream",
     "text": [
      "C:\\Users\\Legion\\AppData\\Local\\Temp\\ipykernel_18524\\2730877694.py:17: FutureWarning: A value is trying to be set on a copy of a DataFrame or Series through chained assignment using an inplace method.\n",
      "The behavior will change in pandas 3.0. This inplace method will never work because the intermediate object on which we are setting values always behaves as a copy.\n",
      "\n",
      "For example, when doing 'df[col].method(value, inplace=True)', try using 'df.method({col: value}, inplace=True)' or df[col] = df[col].method(value) instead, to perform the operation inplace on the original object.\n",
      "\n",
      "\n",
      "  titanic_data['Age'].fillna(titanic_data['Age'].mean(), inplace=True)\n",
      "C:\\Users\\Legion\\AppData\\Local\\Temp\\ipykernel_18524\\2730877694.py:18: FutureWarning: A value is trying to be set on a copy of a DataFrame or Series through chained assignment using an inplace method.\n",
      "The behavior will change in pandas 3.0. This inplace method will never work because the intermediate object on which we are setting values always behaves as a copy.\n",
      "\n",
      "For example, when doing 'df[col].method(value, inplace=True)', try using 'df.method({col: value}, inplace=True)' or df[col] = df[col].method(value) instead, to perform the operation inplace on the original object.\n",
      "\n",
      "\n",
      "  titanic_data['Fare'].fillna(titanic_data['Fare'].mean(), inplace=True)\n",
      "C:\\Users\\Legion\\anaconda3\\envs\\new_env\\lib\\site-packages\\sklearn\\impute\\_base.py:598: UserWarning: Skipping features without any observed values: ['Sex']. At least one non-missing value is needed for imputation with strategy='mean'.\n",
      "  warnings.warn(\n"
     ]
    },
    {
     "data": {
      "image/png": "[encoded data removed]",
      "text/plain": [
       "<Figure size 700x500 with 1 Axes>"
      ]
     },
     "metadata": {},
     "output_type": "display_data"
    },
    {
     "name": "stdout",
     "output_type": "stream",
     "text": [
      "\n",
      "Decision Tree Accuracy: 0.7094972067039106\n"
     ]
    },
    {
     "data": {
      "image/png": "[encoded data removed]",
      "text/plain": [
       "<Figure size 700x500 with 1 Axes>"
      ]
     },
     "metadata": {},
     "output_type": "display_data"
    }
   ],
   "source": [
    "import pandas as pd\n",
    "import seaborn as sns\n",
    "import matplotlib.pyplot as plt\n",
    "from sklearn.model_selection import train_test_split\n",
    "from sklearn.preprocessing import StandardScaler\n",
    "from sklearn.neighbors import KNeighborsClassifier\n",
    "from sklearn.tree import DecisionTreeClassifier\n",
    "from sklearn.metrics import confusion_matrix, accuracy_score\n",
    "from sklearn.impute import SimpleImputer\n",
    "\n",
    "# Step 1: Check for missing values in important columns\n",
    "print(\"Missing values before handling:\")\n",
    "print(titanic_data[['Age', 'Pclass', 'Sex', 'Fare', 'Survived']].isnull().sum())\n",
    "\n",
    "# Step 2: Fill missing values in 'Age' and 'Fare' with the mean\n",
    "titanic_data['Age'].fillna(titanic_data['Age'].mean(), inplace=True)\n",
    "titanic_data['Fare'].fillna(titanic_data['Fare'].mean(), inplace=True)\n",
    "\n",
    "# Check again for missing values to ensure we've handled them\n",
    "print(\"\\nMissing values after handling:\")\n",
    "print(titanic_data[['Age', 'Pclass', 'Sex', 'Fare', 'Survived']].isnull().sum())\n",
    "\n",
    "# Step 3: Convert 'Sex' column into numbers (1 for male, 0 for female)\n",
    "titanic_data['Sex'] = titanic_data['Sex'].map({'male': 1, 'female': 0})\n",
    "\n",
    "# Step 4: Prepare the features (X) and target (y)\n",
    "X = titanic_data[['Age', 'Pclass', 'Sex', 'Fare']]  # Features\n",
    "y = titanic_data['Survived']  # Target\n",
    "\n",
    "# Step 5: Check for missing values in X and y\n",
    "print(\"\\nCheck for missing values in X and y:\")\n",
    "print(X.isnull().sum())  # Check X for missing values\n",
    "print(y.isnull().sum())  # Check y for missing values\n",
    "\n",
    "# Step 6: Handle any remaining missing values in X using an imputer\n",
    "imputer = SimpleImputer(strategy='mean')  # Using the mean strategy for imputation\n",
    "X = imputer.fit_transform(X)  # Apply imputation to the feature set\n",
    "\n",
    "# Check if there are still any missing values after imputation\n",
    "print(\"\\nMissing values in X after imputation:\")\n",
    "print(pd.DataFrame(X).isnull().sum())  # Ensure no NaNs in X\n",
    "\n",
    "# Step 7: Split the data into training and test sets (80% train, 20% test)\n",
    "X_train, X_test, y_train, y_test = train_test_split(X, y, test_size=0.2, random_state=42)\n",
    "\n",
    "# Step 8: Standardize the features (scaling the data)\n",
    "scaler = StandardScaler()\n",
    "\n",
    "# Fit the scaler on the training data and transform both training and test data\n",
    "X_train_scaled = scaler.fit_transform(X_train)\n",
    "X_test_scaled = scaler.transform(X_test)\n",
    "\n",
    "# Step 9: Initialize and train the KNN model (K-Nearest Neighbors)\n",
    "knn_model = KNeighborsClassifier(n_neighbors=5)\n",
    "knn_model.fit(X_train_scaled, y_train)\n",
    "\n",
    "# Step 10: Make predictions on the test data using KNN\n",
    "knn_predictions = knn_model.predict(X_test_scaled)\n",
    "\n",
    "# Step 11: Evaluate the KNN model using a confusion matrix and accuracy score\n",
    "knn_cm = confusion_matrix(y_test, knn_predictions)\n",
    "knn_accuracy = accuracy_score(y_test, knn_predictions)\n",
    "\n",
    "print(\"\\nKNN Accuracy:\", knn_accuracy)\n",
    "\n",
    "# Step 12: Display the confusion matrix for KNN as a heatmap\n",
    "plt.figure(figsize=(7, 5))\n",
    "sns.heatmap(knn_cm, annot=True, fmt='g', cmap='Blues', cbar=False, \n",
    "            xticklabels=['Not Survived', 'Survived'], \n",
    "            yticklabels=['Not Survived', 'Survived'])\n",
    "plt.title('Confusion Matrix - KNN Model')\n",
    "plt.xlabel('Predicted')\n",
    "plt.ylabel('Actual')\n",
    "plt.show()\n",
    "\n",
    "# Step 13: Initialize and train the Decision Tree model\n",
    "dt_model = DecisionTreeClassifier(random_state=42)\n",
    "dt_model.fit(X_train_scaled, y_train)\n",
    "\n",
    "# Step 14: Make predictions on the test data using Decision Tree\n",
    "dt_predictions = dt_model.predict(X_test_scaled)\n",
    "\n",
    "# Step 15: Evaluate the Decision Tree model using a confusion matrix and accuracy score\n",
    "dt_cm = confusion_matrix(y_test, dt_predictions)\n",
    "dt_accuracy = accuracy_score(y_test, dt_predictions)\n",
    "\n",
    "print(\"\\nDecision Tree Accuracy:\", dt_accuracy)\n",
    "\n",
    "# Step 16: Display the confusion matrix for Decision Tree as a heatmap\n",
    "plt.figure(figsize=(7, 5))\n",
    "sns.heatmap(dt_cm, annot=True, fmt='g', cmap='Blues', cbar=False, \n",
    "            xticklabels=['Not Survived', 'Survived'], \n",
    "            yticklabels=['Not Survived', 'Survived'])\n",
    "plt.title('Confusion Matrix - Decision Tree Model')\n",
    "plt.xlabel('Predicted')\n",
    "plt.ylabel('Actual')\n",
    "plt.show()\n"
   ]
  },
  {
   "cell_type": "code",
   "execution_count": 24,
   "metadata": {},
   "outputs": [
    {
     "name": "stdout",
     "output_type": "stream",
     "text": [
      "KNN Model Accuracy (Test Data): 0.7262569832402235\n",
      "Decision Tree Accuracy (Test Data): 0.7094972067039106\n"
     ]
    }
   ],
   "source": [
    "print(f\"KNN Model Accuracy (Test Data): {knn_accuracy}\")\n",
    "print(f\"Decision Tree Accuracy (Test Data): {dt_accuracy}\")"
   ]
  },
  {
   "cell_type": "markdown",
   "metadata": {},
   "source": [
    "#### **Questions**\n",
    "\n",
    "How does the model performance on the test data compare to the performance on the training data? \n",
    " \n",
    " - The model performs better on the training data compared to the test data. This indicates that the model may be overfitting, meaning it learned specific patterns from the training data that don't generalize well to the test data.\n",
    "\n",
    "\n",
    "Which models did you fit and which worked better?\n",
    " \n",
    " - I fitted K-Nearest Neighbors (KNN) and Decision Tree models."
   ]
  }
 ],
 "metadata": {
  "kernelspec": {
   "display_name": "Python (myenv)",
   "language": "python",
   "name": "new_env"
  },
  "language_info": {
   "codemirror_mode": {
    "name": "ipython",
    "version": 3
   },
   "file_extension": ".py",
   "mimetype": "text/x-python",
   "name": "python",
   "nbconvert_exporter": "python",
   "pygments_lexer": "ipython3",
   "version": "3.9.20"
  }
 },
 "nbformat": 4,
 "nbformat_minor": 2
}
